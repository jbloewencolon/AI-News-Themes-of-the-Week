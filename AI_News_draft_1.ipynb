{
  "nbformat": 4,
  "nbformat_minor": 0,
  "metadata": {
    "colab": {
      "provenance": [],
      "authorship_tag": "ABX9TyP2CPzXY2AhNT0LxVbjqfNb",
      "include_colab_link": true
    },
    "kernelspec": {
      "name": "python3",
      "display_name": "Python 3"
    },
    "language_info": {
      "name": "python"
    }
  },
  "cells": [
    {
      "cell_type": "markdown",
      "metadata": {
        "id": "view-in-github",
        "colab_type": "text"
      },
      "source": [
        "<a href=\"https://colab.research.google.com/github/jbloewencolon/AI-News-Themes-of-the-Week/blob/main/AI_News_draft_1.ipynb\" target=\"_parent\"><img src=\"https://colab.research.google.com/assets/colab-badge.svg\" alt=\"Open In Colab\"/></a>"
      ]
    },
    {
      "cell_type": "code",
      "execution_count": 1,
      "metadata": {
        "colab": {
          "base_uri": "https://localhost:8080/"
        },
        "id": "VCMckokc3ODN",
        "outputId": "a87b88df-d798-435a-fb2d-d57c929732ec"
      },
      "outputs": [
        {
          "output_type": "stream",
          "name": "stdout",
          "text": [
            "This Week's Top AI News Headlines:\n"
          ]
        }
      ],
      "source": [
        "import requests\n",
        "from bs4 import BeautifulSoup\n",
        "\n",
        "def get_ai_news_headlines():\n",
        "    \"\"\" I grab the latest AI news headlines from the Artificial Intelligence News website.\n",
        "    \"\"\"\n",
        "\n",
        "    base_url = \"https://www.artificialintelligence-news.com/\"\n",
        "    response = requests.get(base_url)\n",
        "    response.raise_for_status()  # Important to check if the website responded correctly\n",
        "\n",
        "    soup = BeautifulSoup(response.content, 'html.parser')\n",
        "\n",
        "    # I need to inspect the website's HTML to find the right tags for headlines\n",
        "    headline_elements = soup.find_all('h3', class_='entry-title td-module-title')\n",
        "\n",
        "    headlines = []\n",
        "    for element in headline_elements:\n",
        "        headline_link = element.find('a')\n",
        "        # I make sure an actual link to the article exists within the headline\n",
        "        if headline_link:\n",
        "            headlines.append(headline_link.text.strip())\n",
        "\n",
        "    return headlines\n",
        "\n",
        "if __name__ == \"__main__\":\n",
        "    latest_headlines = get_ai_news_headlines()\n",
        "    print(\"This Week's Top AI News Headlines:\")\n",
        "    for headline in latest_headlines:\n",
        "        print(headline)\n"
      ]
    },
    {
      "cell_type": "code",
      "source": [],
      "metadata": {
        "id": "eHYPTtK935s6"
      },
      "execution_count": null,
      "outputs": []
    }
  ]
}