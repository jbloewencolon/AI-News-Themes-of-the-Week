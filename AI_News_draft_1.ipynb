{
  "nbformat": 4,
  "nbformat_minor": 0,
  "metadata": {
    "colab": {
      "provenance": [],
      "authorship_tag": "ABX9TyMIaz0Nhkvw4tmZQbn2an42",
      "include_colab_link": true
    },
    "kernelspec": {
      "name": "python3",
      "display_name": "Python 3"
    },
    "language_info": {
      "name": "python"
    }
  },
  "cells": [
    {
      "cell_type": "markdown",
      "metadata": {
        "id": "view-in-github",
        "colab_type": "text"
      },
      "source": [
        "<a href=\"https://colab.research.google.com/github/jbloewencolon/AI-News-Themes-of-the-Week/blob/main/AI_News_draft_1.ipynb\" target=\"_parent\"><img src=\"https://colab.research.google.com/assets/colab-badge.svg\" alt=\"Open In Colab\"/></a>"
      ]
    },
    {
      "cell_type": "code",
      "execution_count": 1,
      "metadata": {
        "colab": {
          "base_uri": "https://localhost:8080/"
        },
        "id": "VCMckokc3ODN",
        "outputId": "aa41169c-512f-47be-9204-6cadda4154ef"
      },
      "outputs": [
        {
          "output_type": "stream",
          "name": "stderr",
          "text": [
            "[nltk_data] Downloading package punkt to /root/nltk_data...\n",
            "[nltk_data]   Unzipping tokenizers/punkt.zip.\n",
            "[nltk_data] Downloading package stopwords to /root/nltk_data...\n",
            "[nltk_data]   Unzipping corpora/stopwords.zip.\n"
          ]
        },
        {
          "output_type": "stream",
          "name": "stdout",
          "text": [
            "This Week's Top AI News Headlines:\n",
            "This Week's Top AI Keywords:\n",
            "[]\n"
          ]
        }
      ],
      "source": [
        "import requests\n",
        "from bs4 import BeautifulSoup\n",
        "import nltk\n",
        "nltk.download('punkt')  # One-time download for sentence splitting\n",
        "nltk.download('stopwords')  # Download common 'stop words'\n",
        "\n",
        "def get_ai_news_headlines():\n",
        "    \"\"\" I grab the latest AI news headlines from the Artificial Intelligence News website.\n",
        "    \"\"\"\n",
        "\n",
        "    base_url = \"https://www.artificialintelligence-news.com/\"\n",
        "    response = requests.get(base_url)\n",
        "    response.raise_for_status()  # Important to check if the website responded correctly\n",
        "\n",
        "    soup = BeautifulSoup(response.content, 'html.parser')\n",
        "\n",
        "    # I need to inspect the website's HTML to find the right tags for headlines\n",
        "    headline_elements = soup.find_all('h3', class_='entry-title td-module-title')\n",
        "\n",
        "    headlines = []\n",
        "    for element in headline_elements:\n",
        "        headline_link = element.find('a')\n",
        "        # I make sure an actual link to the article exists within the headline\n",
        "        if headline_link:\n",
        "            headlines.append(headline_link.text.strip())\n",
        "\n",
        "    return headlines\n",
        "\n",
        "def analyze_headlines(headlines):\n",
        "    \"\"\" I process the headlines to find meaningful keywords\"\"\"\n",
        "    all_words = []\n",
        "\n",
        "    for headline in headlines:\n",
        "        words = nltk.word_tokenize(headline)\n",
        "        # Lowercase for simplicity\n",
        "        words = [word.lower() for word in words if word.isalpha()]\n",
        "        # Filter out stop words (the, is, a, etc.)\n",
        "        stop_words = set(nltk.corpus.stopwords.words('english'))\n",
        "        words = [w for w in words if not w in stop_words]\n",
        "\n",
        "        all_words.extend(words)\n",
        "\n",
        "    # Find the most frequent words\n",
        "    freq_dist = nltk.FreqDist(all_words)\n",
        "    top_keywords = [word for word, count in freq_dist.most_common(10)]  # Adjust the number for more/fewer keywords\n",
        "\n",
        "    return top_keywords\n",
        "\n",
        "if __name__ == \"__main__\":\n",
        "    latest_headlines = get_ai_news_headlines()\n",
        "    print(\"This Week's Top AI News Headlines:\")\n",
        "    for headline in latest_headlines:\n",
        "        print(headline)\n",
        "    keywords = analyze_headlines(latest_headlines)\n",
        "    print(\"This Week's Top AI Keywords:\")\n",
        "    print(keywords)"
      ]
    },
    {
      "cell_type": "code",
      "source": [],
      "metadata": {
        "id": "eHYPTtK935s6"
      },
      "execution_count": null,
      "outputs": []
    }
  ]
}